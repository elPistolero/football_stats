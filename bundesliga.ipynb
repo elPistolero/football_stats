{
 "cells": [
  {
   "cell_type": "code",
   "execution_count": null,
   "metadata": {},
   "outputs": [],
   "source": [
    "%matplotlib inline\n",
    "import numpy as np\n",
    "import pandas as pd\n",
    "import seaborn as sns\n",
    "import pymc3 as pm\n",
    "import pickle\n",
    "import matplotlib.pyplot as plt"
   ]
  },
  {
   "cell_type": "code",
   "execution_count": null,
   "metadata": {},
   "outputs": [],
   "source": [
    "data_file = './results.txt'\n",
    "df = pd.read_csv(data_file, sep='\\t', index_col=0)\n",
    "df.head()"
   ]
  },
  {
   "cell_type": "code",
   "execution_count": null,
   "metadata": {},
   "outputs": [],
   "source": [
    "df.index = df.columns\n",
    "rows = []\n",
    "for i in df.index:\n",
    "    for c in df.columns:\n",
    "        if i == c: continue\n",
    "        score = df.loc[i, c]\n",
    "        try:\n",
    "            score = [int(row) for row in score.split('–')]\n",
    "            rows.append([i, c, score[0], score[1]])\n",
    "        except:\n",
    "            continue\n",
    "df = pd.DataFrame(rows, columns = ['home', 'away', 'home_score', 'away_score'])\n",
    "df.head()"
   ]
  },
  {
   "cell_type": "code",
   "execution_count": null,
   "metadata": {},
   "outputs": [],
   "source": [
    "teams = df.home.unique()\n",
    "teams = pd.DataFrame(teams, columns=['team'])\n",
    "teams['i'] = teams.index\n",
    "teams.head()"
   ]
  },
  {
   "cell_type": "code",
   "execution_count": null,
   "metadata": {},
   "outputs": [],
   "source": [
    "df = pd.merge(df, teams, left_on='home', right_on='team', how='left')\n",
    "df = df.rename(columns = {'i': 'i_home'}).drop('team', 1)\n",
    "df = pd.merge(df, teams, left_on='away', right_on='team', how='left')\n",
    "df = df.rename(columns = {'i': 'i_away'}).drop('team', 1)\n",
    "df.head()"
   ]
  },
  {
   "cell_type": "code",
   "execution_count": null,
   "metadata": {},
   "outputs": [],
   "source": [
    "observed_home_goals = df.home_score.values\n",
    "observed_away_goals = df.away_score.values\n",
    "home_team = df.i_home.values\n",
    "away_team = df.i_away.values\n",
    "num_teams = len(df.i_home.unique())\n",
    "num_games = len(home_team)"
   ]
  },
  {
   "cell_type": "code",
   "execution_count": null,
   "metadata": {},
   "outputs": [],
   "source": [
    "g = df.groupby('i_away')\n",
    "att_starting_points = np.log(g.away_score.mean())\n",
    "g = df.groupby('i_home')\n",
    "def_starting_points = -np.log(g.away_score.mean())"
   ]
  },
  {
   "cell_type": "code",
   "execution_count": null,
   "metadata": {},
   "outputs": [],
   "source": [
    "with pm.Model() as model:\n",
    "    home = pm.Normal('home', 0., .0001, testval=0)\n",
    "    intercept = pm.Normal('intercept', 0., .0001, testval=0)\n",
    "    tau_att = pm.Gamma('tau_att', .1, .1, testval=10)\n",
    "    tau_def = pm.Gamma('tau_def', .1, .1, testval=10)\n",
    "    atts_star = pm.Normal('atts_star', 0., tau_att, shape=num_teams, testval=att_starting_points)\n",
    "    defs_star = pm.Normal('defs_star', 0., tau_def, shape=num_teams, testval=def_starting_points)\n",
    "    atts = pm.Deterministic('atts', atts_star - atts_star.mean())\n",
    "    defs = pm.Deterministic('defs', defs_star - defs_star.mean())\n",
    "    home_theta = pm.Deterministic('home_theta', pm.math.exp(intercept + home + atts[home_team] + defs[away_team]))\n",
    "    away_theta = pm.Deterministic('away_theta', pm.math.exp(intercept + atts[away_team] + defs[home_team]))\n",
    "    home_goals = pm.Poisson('home_goals', home_theta, observed=observed_home_goals)\n",
    "    away_goals = pm.Poisson('away_goals', away_theta, observed=observed_away_goals)"
   ]
  },
  {
   "cell_type": "code",
   "execution_count": null,
   "metadata": {},
   "outputs": [],
   "source": [
    "with model:\n",
    "    trace = pm.sample(5000, tune=1000, init='advi_map', nuts_kwargs=dict(target_accept=.90))"
   ]
  },
  {
   "cell_type": "code",
   "execution_count": null,
   "metadata": {},
   "outputs": [],
   "source": [
    "with open('model.pkl', 'wb') as file:\n",
    "    pickle.dump({'model':model, 'trace':trace}, file)"
   ]
  },
  {
   "cell_type": "code",
   "execution_count": null,
   "metadata": {
    "scrolled": false
   },
   "outputs": [],
   "source": [
    "df_avg = pd.DataFrame({'avg_att': trace['atts'].mean(0),\n",
    "                       'avg_def': trace['defs'].mean(0)}, \n",
    "                      index=teams.team.values)\n",
    "df_avg = pd.merge(df_avg, teams, left_index=True, right_on='team', how='left')"
   ]
  },
  {
   "cell_type": "code",
   "execution_count": null,
   "metadata": {},
   "outputs": [],
   "source": [
    "fig, ax = plt.subplots()\n",
    "ax.scatter(df_avg.avg_att.values, df_avg.avg_def.values)\n",
    "for label, x, y in zip(df_avg.team.values, df_avg.avg_att.values, df_avg.avg_def.values):\n",
    "    ax.annotate(label, xy=(x,y), xytext = (-5,5), textcoords = 'offset points')\n",
    "ax.set_xlabel('Avg attack effect')\n",
    "ax.set_ylabel('Avg defense effect')\n",
    "_ = ax.axis('equal')\n",
    "plt.savefig('effect.png')"
   ]
  }
 ],
 "metadata": {
  "kernelspec": {
   "display_name": "Python 3",
   "language": "python",
   "name": "python3"
  },
  "language_info": {
   "codemirror_mode": {
    "name": "ipython",
    "version": 3
   },
   "file_extension": ".py",
   "mimetype": "text/x-python",
   "name": "python",
   "nbconvert_exporter": "python",
   "pygments_lexer": "ipython3",
   "version": "3.6.3"
  }
 },
 "nbformat": 4,
 "nbformat_minor": 2
}
